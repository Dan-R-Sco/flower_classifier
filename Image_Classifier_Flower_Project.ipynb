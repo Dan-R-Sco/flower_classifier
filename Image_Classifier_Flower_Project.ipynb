{
 "cells": [
  {
   "cell_type": "code",
   "execution_count": 0,
   "metadata": {
    "colab": {},
    "colab_type": "code",
    "id": "Ni6OGZ2y5qek"
   },
   "outputs": [],
   "source": [
    "#%autosave 0"
   ]
  },
  {
   "cell_type": "markdown",
   "metadata": {
    "colab_type": "text",
    "id": "szSjmKTA5qes"
   },
   "source": [
    "# Developing an AI application\n",
    "\n",
    "Going forward, AI algorithms will be incorporated into more and more everyday applications. For example, you might want to include an image classifier in a smart phone app. To do this, you'd use a deep learning model trained on hundreds of thousands of images as part of the overall application architecture. A large part of software development in the future will be using these types of models as common parts of applications. \n",
    "\n",
    "In this project, an image classifier is trained to recognize different species of flowers. You can imagine using something like this in a phone app that tells you the name of the flower your camera is looking at. In practice you'd train this classifier, then export it for use in your application. The following dataset will be used: [dataset](http://www.robots.ox.ac.uk/~vgg/data/flowers/102/index.html) of 102 flower categories, you can see a few examples below. \n",
    "\n",
    "<img src='assets/Flowers.png' width=500px>\n",
    "\n",
    "The project is broken down into multiple steps:\n",
    "\n",
    "* Load and preprocess the image dataset\n",
    "* Train the image classifier on your dataset\n",
    "* Use the trained classifier to predict image content\n",
    "\n",
    "\n",
    "When the project is completed, we'll have an application that can be trained on any set of labeled images. Here the network will be learning about flowers and end up as a command line application. But, what what can be done with this CNN is limitted by your imagination and effort in building a dataset. For example, imagine an app where you take a picture of a car, it tells you what the make and model is, then looks up information about it.\n",
    "\n",
    "First up is importing the packages you'll need. It's good practice to keep all the imports at the beginning of your code. As you work through this notebook and find you need to import a package, make sure to add the import up here.\n",
    "\n",
    "The program is run on Colab. So, we need to install torch first before running code. "
   ]
  },
  {
   "cell_type": "code",
   "execution_count": 2,
   "metadata": {
    "colab": {
     "base_uri": "https://localhost:8080/",
     "height": 54
    },
    "colab_type": "code",
    "executionInfo": {
     "elapsed": 43069,
     "status": "ok",
     "timestamp": 1544507528468,
     "user": {
      "displayName": "Boris Kushnarev",
      "photoUrl": "https://lh5.googleusercontent.com/-7Z8h64--40c/AAAAAAAAAAI/AAAAAAAAajw/pfM0Ql97dVY/s64/photo.jpg",
      "userId": "10599252230475805342"
     },
     "user_tz": -360
    },
    "id": "ZyVGourE6PQX",
    "outputId": "1ba83ca9-84d9-440a-be45-13420316c1eb"
   },
   "outputs": [
    {
     "name": "stdout",
     "output_type": "stream",
     "text": [
      "tcmalloc: large alloc 1073750016 bytes == 0x59064000 @  0x7f28c61bb2a4 0x591a07 0x5b5d56 0x502e9a 0x506859 0x502209 0x502f3d 0x506859 0x504c28 0x502540 0x502f3d 0x506859 0x504c28 0x502540 0x502f3d 0x506859 0x504c28 0x502540 0x502f3d 0x507641 0x502209 0x502f3d 0x506859 0x504c28 0x502540 0x502f3d 0x507641 0x504c28 0x502540 0x502f3d 0x507641\n"
     ]
    }
   ],
   "source": [
    "# http://pytorch.org/\n",
    "from os.path import exists\n",
    "from wheel.pep425tags import get_abbr_impl, get_impl_ver, get_abi_tag\n",
    "platform = '{}{}-{}'.format(get_abbr_impl(), get_impl_ver(), get_abi_tag())\n",
    "cuda_output = !ldconfig -p|grep cudart.so|sed -e 's/.*\\.\\([0-9]*\\)\\.\\([0-9]*\\)$/cu\\1\\2/'\n",
    "accelerator = cuda_output[0] if exists('/dev/nvidia0') else 'cpu'\n",
    "\n",
    "!pip install -q http://download.pytorch.org/whl/{accelerator}/torch-0.4.1-{platform}-linux_x86_64.whl torchvision\n"
   ]
  },
  {
   "cell_type": "code",
   "execution_count": 0,
   "metadata": {
    "colab": {},
    "colab_type": "code",
    "id": "isu5fx7s5qet"
   },
   "outputs": [],
   "source": [
    "# Imports here all packages which will be needed for the program \n",
    "%matplotlib inline\n",
    "%config InlineBackend.figure_format = 'retina'\n",
    "\n",
    "import torch\n",
    "import matplotlib.pyplot as plt\n",
    "import numpy as np\n",
    "from torch import nn\n",
    "from torch import optim\n",
    "import torch.nn.functional as F\n",
    "from torchvision import datasets, transforms, models\n",
    "from torch.utils.data.sampler import SubsetRandomSampler\n",
    "from collections import OrderedDict\n",
    "from google.colab import files"
   ]
  },
  {
   "cell_type": "code",
   "execution_count": 0,
   "metadata": {
    "colab": {},
    "colab_type": "code",
    "id": "1deJPK6pyX-3"
   },
   "outputs": [],
   "source": [
    "!pip install Pillow==4.0.0\n",
    "!pip install PIL\n",
    "!pip install image\n",
    "import PIL\n",
    "from PIL import Image"
   ]
  },
  {
   "cell_type": "markdown",
   "metadata": {
    "colab_type": "text",
    "id": "NVZydBZD-6LE"
   },
   "source": [
    "## Load the data\n",
    "\n",
    " `torchvision` will be used to load the data ([documentation](http://pytorch.org/docs/0.3.0/torchvision/index.html)). You can [download the data here](https://s3.amazonaws.com/content.udacity-data.com/courses/nd188/flower_data.zip). The dataset is split into two parts, training and validation. For the training, you'll want to apply transformations such as random scaling, cropping, and flipping. This will help the network generalize leading to better performance. If a pre-trained network is used, make sure the input data is resized to 224x224 pixels as required by the networks.\n",
    "\n",
    "The validation set is used to measure the model's performance on data it hasn't seen yet. For this we don't want any scaling or rotation transformations, but we'll need to resize then crop the images to the appropriate size.\n",
    "\n",
    "The pre-trained networks available from `torchvision` were trained on the ImageNet dataset where each color channel was normalized separately. For both sets you'll need to normalize the means and standard deviations of the images to what the network expects. For the means, it's `[0.485, 0.456, 0.406]` and for the standard deviations `[0.229, 0.224, 0.225]`, calculated from the ImageNet images.  These values will shift each color channel to be centered at 0 and range from -1 to 1."
   ]
  },
  {
   "cell_type": "code",
   "execution_count": 5,
   "metadata": {
    "colab": {
     "base_uri": "https://localhost:8080/",
     "height": 206
    },
    "colab_type": "code",
    "executionInfo": {
     "elapsed": 81847,
     "status": "ok",
     "timestamp": 1544507567281,
     "user": {
      "displayName": "Boris Kushnarev",
      "photoUrl": "https://lh5.googleusercontent.com/-7Z8h64--40c/AAAAAAAAAAI/AAAAAAAAajw/pfM0Ql97dVY/s64/photo.jpg",
      "userId": "10599252230475805342"
     },
     "user_tz": -360
    },
    "id": "JMjhrWBd6Nv-",
    "outputId": "bea027d9-9f01-496f-c90c-d726ed604abe"
   },
   "outputs": [
    {
     "name": "stdout",
     "output_type": "stream",
     "text": [
      "--2018-12-11 05:52:25--  https://s3.amazonaws.com/content.udacity-data.com/courses/nd188/flower_data.zip\n",
      "Resolving s3.amazonaws.com (s3.amazonaws.com)... 54.231.72.122\n",
      "Connecting to s3.amazonaws.com (s3.amazonaws.com)|54.231.72.122|:443... connected.\n",
      "HTTP request sent, awaiting response... 200 OK\n",
      "Length: 311442766 (297M) [application/zip]\n",
      "Saving to: ‘flower_data.zip’\n",
      "\n",
      "flower_data.zip     100%[===================>] 297.01M  16.5MB/s    in 20s     \n",
      "\n",
      "2018-12-11 05:52:46 (15.0 MB/s) - ‘flower_data.zip’ saved [311442766/311442766]\n",
      "\n"
     ]
    }
   ],
   "source": [
    "#download a cat_dog dataset\n",
    "!wget https://s3.amazonaws.com/content.udacity-data.com/courses/nd188/flower_data.zip\n",
    "  "
   ]
  },
  {
   "cell_type": "code",
   "execution_count": 0,
   "metadata": {
    "colab": {},
    "colab_type": "code",
    "id": "WhGh5ZXA6qE1"
   },
   "outputs": [],
   "source": [
    "#unzip the downloaded dataset\n",
    "!unzip flower_data.zip"
   ]
  },
  {
   "cell_type": "code",
   "execution_count": 0,
   "metadata": {
    "colab": {},
    "colab_type": "code",
    "id": "VqHTA5AA60pt"
   },
   "outputs": [],
   "source": [
    "data_dir = 'flower_data'\n",
    "\n",
    "# number of subprocesses to use for data loading\n",
    "num_workers = 0\n",
    "# how many samples per batch to load\n",
    "batch_size=64\n",
    "# percentage of training set to use as validation\n",
    "valid_size = 0.2\n",
    "\n",
    "# TODO: Define transforms for the training data and testing data\n",
    "train_transforms = transforms.Compose([transforms.RandomRotation(30),\n",
    "                                       transforms.RandomResizedCrop(224),\n",
    "                                       transforms.RandomHorizontalFlip(),\n",
    "                                       transforms.ToTensor(),\n",
    "                                       transforms.Normalize([0.485, 0.456, 0.406],\n",
    "                                                            [0.229, 0.224, 0.225])])\n",
    "\n",
    "test_transforms = transforms.Compose([transforms.Resize(255),\n",
    "                                      transforms.CenterCrop(224),\n",
    "                                      transforms.ToTensor(),\n",
    "                                      transforms.Normalize([0.485, 0.456, 0.406],\n",
    "                                                           [0.229, 0.224, 0.225])])\n",
    "\n",
    "# Pass transforms in here, then run the next cell to see how the transforms look\n",
    "train_data = datasets.ImageFolder(data_dir + '/train', transform=train_transforms)\n",
    "test_data = datasets.ImageFolder(data_dir + '/valid', transform=test_transforms)\n",
    "\n",
    "# obtain training indices that will be used for validation\n",
    "num_train = len(train_data)\n",
    "indices = list(range(num_train))\n",
    "np.random.shuffle(indices)\n",
    "split = int(np.floor(valid_size * num_train))\n",
    "train_idx, valid_idx = indices[split:], indices[:split]\n",
    "\n",
    "# define samplers for obtaining training and validation batches\n",
    "train_sampler = SubsetRandomSampler(train_idx)\n",
    "valid_sampler = SubsetRandomSampler(valid_idx)\n",
    "\n",
    "train_loader = torch.utils.data.DataLoader(train_data, batch_size=batch_size,sampler=train_sampler,\n",
    "                                          num_workers=num_workers)\n",
    "valid_loader = torch.utils.data.DataLoader(train_data, batch_size=batch_size, \n",
    "    sampler=valid_sampler, num_workers=num_workers)\n",
    "test_loader = torch.utils.data.DataLoader(test_data, batch_size=batch_size)\n"
   ]
  },
  {
   "cell_type": "markdown",
   "metadata": {
    "colab_type": "text",
    "id": "r6SluEe891cb"
   },
   "source": [
    "### Label mapping\n",
    "\n",
    "Mapping from a category label to a category name has to be loaded and it can be found in the file `cat_to_name.json`. It's a JSON object which can be read in with the [`json` module](https://docs.python.org/2/library/json.html). This will give us a dictionary mapping the integer encoded categories to the actual names of the flowers."
   ]
  },
  {
   "cell_type": "code",
   "execution_count": 0,
   "metadata": {
    "colab": {},
    "colab_type": "code",
    "id": "jFHX9AXE95Zg"
   },
   "outputs": [],
   "source": [
    "#import json\n",
    "\n",
    "#!wget https://drive.google.com/file/d/1H5bhIyF2HQc7G_SPvKg_Q4dmTN6CFHLF/view?usp=sharing \n",
    "#with open('flower_data/cat_to_name.json', 'r') as f:\n",
    "#    cat_to_name = json.load(f)"
   ]
  },
  {
   "cell_type": "markdown",
   "metadata": {
    "colab_type": "text",
    "id": "jYPZ_ousBXtZ"
   },
   "source": [
    "# Building and training the classifier\n",
    "\n",
    "The data is ready, so it's time to build and train the classifier. One of the pretrained models from `torchvision.models` will be used to get the image features. Build and train a new feed-forward classifier using those features.\n",
    "\n",
    "We're going to leave this part up to you. If you want to talk through it with someone, chat with your fellow students! You can also ask questions on the forums or join the instructors in office hours.\n",
    "\n",
    "* Load a [pre-trained network](http://pytorch.org/docs/master/torchvision/models.html) \n",
    "* Define a new, untrained feed-forward network as a classifier, using ReLU activations and dropout\n",
    "* Train the classifier layers using backpropagation using the pre-trained network to get the features\n",
    "* Track the loss and accuracy on the validation set to determine the best hyperparameters\n",
    "\n",
    "\n"
   ]
  },
  {
   "cell_type": "markdown",
   "metadata": {
    "colab_type": "text",
    "id": "oo04LHc697iZ"
   },
   "source": [
    "Let's load in a model such as **`DenseNet`** and print out the architecture"
   ]
  },
  {
   "cell_type": "code",
   "execution_count": 9,
   "metadata": {
    "colab": {
     "base_uri": "https://localhost:8080/",
     "height": 106
    },
    "colab_type": "code",
    "executionInfo": {
     "elapsed": 90729,
     "status": "ok",
     "timestamp": 1544507576190,
     "user": {
      "displayName": "Boris Kushnarev",
      "photoUrl": "https://lh5.googleusercontent.com/-7Z8h64--40c/AAAAAAAAAAI/AAAAAAAAajw/pfM0Ql97dVY/s64/photo.jpg",
      "userId": "10599252230475805342"
     },
     "user_tz": -360
    },
    "id": "18eI5i6OHY1e",
    "outputId": "4bdedd1f-aac7-4c22-c6aa-179bf36f35e9"
   },
   "outputs": [
    {
     "name": "stderr",
     "output_type": "stream",
     "text": [
      "/usr/local/lib/python3.6/dist-packages/torchvision/models/densenet.py:212: UserWarning: nn.init.kaiming_normal is now deprecated in favor of nn.init.kaiming_normal_.\n",
      "  nn.init.kaiming_normal(m.weight.data)\n",
      "Downloading: \"https://download.pytorch.org/models/densenet121-a639ec97.pth\" to /root/.torch/models/densenet121-a639ec97.pth\n",
      "100%|██████████| 32342954/32342954 [00:00<00:00, 40445220.42it/s]\n"
     ]
    }
   ],
   "source": [
    "arch = 'densenet121'\n",
    "model = models.densenet121(pretrained=True)\n",
    "#model"
   ]
  },
  {
   "cell_type": "markdown",
   "metadata": {
    "colab_type": "text",
    "id": "Y4Kh1UHBImh1"
   },
   "source": [
    "This model is built out of two main parts, the features and the classifier. The features part is a stack of convolutional layers and overall works as a feature detector that can be fed into a classifier. The classifier part is a single fully-connected layer (classifier): Linear(in_features=1024, out_features=1000). This layer was trained on the ImageNet dataset, so it won't work for our specific problem. That means we need to replace the classifier, but the features will work perfectly on their own. In general, I think about pre-trained networks as amazingly good feature detectors that can be used as the input for simple feed-forward classifiers."
   ]
  },
  {
   "cell_type": "code",
   "execution_count": 10,
   "metadata": {
    "colab": {
     "base_uri": "https://localhost:8080/",
     "height": 34
    },
    "colab_type": "code",
    "executionInfo": {
     "elapsed": 90712,
     "status": "ok",
     "timestamp": 1544507576191,
     "user": {
      "displayName": "Boris Kushnarev",
      "photoUrl": "https://lh5.googleusercontent.com/-7Z8h64--40c/AAAAAAAAAAI/AAAAAAAAajw/pfM0Ql97dVY/s64/photo.jpg",
      "userId": "10599252230475805342"
     },
     "user_tz": -360
    },
    "id": "JskcQAKAJNRS",
    "outputId": "a8859dab-c444-45c7-c936-67d253fa0f45"
   },
   "outputs": [
    {
     "name": "stdout",
     "output_type": "stream",
     "text": [
      "CUDA is available!  Training on GPU ...\n"
     ]
    }
   ],
   "source": [
    "#Check if parallel computing is available / if CUDA is available\n",
    "\n",
    "train_on_gpu = torch.cuda.is_available()\n",
    "\n",
    "if not train_on_gpu:\n",
    "    print('CUDA is not available.  Training on CPU ...')\n",
    "    device = \"cpu\"\n",
    "else:\n",
    "    print('CUDA is available!  Training on GPU ...')\n",
    "    device = \"cuda\""
   ]
  },
  {
   "cell_type": "code",
   "execution_count": 11,
   "metadata": {
    "colab": {
     "base_uri": "https://localhost:8080/",
     "height": 34
    },
    "colab_type": "code",
    "executionInfo": {
     "elapsed": 94048,
     "status": "ok",
     "timestamp": 1544507579547,
     "user": {
      "displayName": "Boris Kushnarev",
      "photoUrl": "https://lh5.googleusercontent.com/-7Z8h64--40c/AAAAAAAAAAI/AAAAAAAAajw/pfM0Ql97dVY/s64/photo.jpg",
      "userId": "10599252230475805342"
     },
     "user_tz": -360
    },
    "id": "9xpCxi9fHbBV",
    "outputId": "93b4546b-ce0a-4bc0-feeb-1af8dfabf8bf"
   },
   "outputs": [
    {
     "data": {
      "text/plain": [
       "1024"
      ]
     },
     "execution_count": 11,
     "metadata": {
      "tags": []
     },
     "output_type": "execute_result"
    }
   ],
   "source": [
    "# Freeze parameters so we don't backprop through them\n",
    "for param in model.parameters():\n",
    "    param.requires_grad = False\n",
    "\n",
    "\n",
    "\n",
    "\n",
    "class Classifier(nn.Module):\n",
    "    def __init__(self): #, input_size, output_size, hidden_layers, drop_p=0.5):\n",
    "        ''' Builds a feedforward network with arbitrary hidden layers.\n",
    "        \n",
    "            Arguments\n",
    "            ---------\n",
    "            input_size: integer, size of the input layer\n",
    "            output_size: integer, size of the output layer\n",
    "            hidden_layers: list of integers, the sizes of the hidden layers\n",
    "        \n",
    "        '''\n",
    "        self.input_size_out = 1024\n",
    "        input_size = self.input_size_out\n",
    "        hidden_layers = [768, 512, 256, 128]\n",
    "        self.output_size_out = 102\n",
    "        output_size = self.output_size_out\n",
    "        drop_p = 0.2\n",
    "        super().__init__()\n",
    "        # Input to a hidden layer\n",
    "        self.hidden_layers = nn.ModuleList([nn.Linear(input_size, hidden_layers[0])])\n",
    "        \n",
    "        # Add a variable number of more hidden layers\n",
    "        layer_sizes = zip(hidden_layers[:-1], hidden_layers[1:])\n",
    "        self.hidden_layers.extend([nn.Linear(h1, h2) for h1, h2 in layer_sizes])\n",
    "        \n",
    "        self.output = nn.Linear(hidden_layers[-1], output_size)\n",
    "        \n",
    "        self.dropout = nn.Dropout(p=drop_p)\n",
    "        \n",
    "\n",
    "        \n",
    "    def forward(self, x):\n",
    "        ''' Forward pass through the network, returns the output logits '''\n",
    "        \n",
    "        for each in self.hidden_layers:\n",
    "            x = F.relu(each(x))\n",
    "            x = self.dropout(x)\n",
    "        x = self.output(x)\n",
    "        \n",
    "        return F.log_softmax(x, dim=1)\n",
    "\n",
    "    \n",
    "model.classifier = Classifier() \n",
    "\n",
    "model.to(device);\n",
    "model.classifier.input_size_out\n",
    "#for param_tensor in model.state_dict():\n",
    "#    print(param_tensor, \"\\t\", model.state_dict()[param_tensor].size())"
   ]
  },
  {
   "cell_type": "markdown",
   "metadata": {
    "colab_type": "text",
    "id": "1rUIzvJUOIcf"
   },
   "source": [
    "Let's train the classifier. For deep NN it is better to use GPU dseigned for matrix / tensor operations in parallel.  "
   ]
  },
  {
   "cell_type": "markdown",
   "metadata": {
    "colab_type": "text",
    "id": "Sxf5EYMZPzA6"
   },
   "source": [
    "### Specify Loss Function and Optimizer\n",
    "\n"
   ]
  },
  {
   "cell_type": "code",
   "execution_count": 0,
   "metadata": {
    "colab": {},
    "colab_type": "code",
    "id": "VpmRqZ39PLhH"
   },
   "outputs": [],
   "source": [
    "learning_rate = 0.0009 * 0.75\n",
    "momentum=0.9\n",
    "\n",
    "\n",
    "# specify loss function (categorical cross-entropy)\n",
    "criterion = nn.CrossEntropyLoss()\n",
    "\n",
    "# specify optimizer\n",
    "optimizer = optim.Adam(model.classifier.parameters(), lr=learning_rate) #### # Only train the classifier parameters, feature parameters are frozen"
   ]
  },
  {
   "cell_type": "markdown",
   "metadata": {
    "colab_type": "text",
    "id": "CyvqoqlwSJ9Q"
   },
   "source": [
    "### Train the network"
   ]
  },
  {
   "cell_type": "code",
   "execution_count": 0,
   "metadata": {
    "colab": {
     "base_uri": "https://localhost:8080/",
     "height": 1354
    },
    "colab_type": "code",
    "executionInfo": {
     "elapsed": 485784,
     "status": "error",
     "timestamp": 1544454373385,
     "user": {
      "displayName": "Boris Kushnarev",
      "photoUrl": "https://lh5.googleusercontent.com/-7Z8h64--40c/AAAAAAAAAAI/AAAAAAAAajw/pfM0Ql97dVY/s64/photo.jpg",
      "userId": "10599252230475805342"
     },
     "user_tz": -360
    },
    "id": "Fw932NmjdUyo",
    "outputId": "7cb2aaa6-a296-460d-c339-0afd2c62cd04"
   },
   "outputs": [
    {
     "name": "stdout",
     "output_type": "stream",
     "text": [
      "Epoch 1/20000.. Train loss: 279.861.. Validation loss: 234.038.. Validation accuracy: 16.429%\n",
      "Validation loss decreased (inf --> 234.038061).  Saving model ... \n",
      "\n",
      "Epoch 2/20000.. Train loss: 210.372.. Validation loss: 150.124.. Validation accuracy: 38.472%\n",
      "Validation loss decreased (234.038061 --> 150.123716).  Saving model ... \n",
      "\n",
      "Epoch 3/20000.. Train loss: 155.937.. Validation loss: 106.482.. Validation accuracy: 56.225%\n",
      "Validation loss decreased (150.123716 --> 106.481684).  Saving model ... \n",
      "\n",
      "Epoch 4/20000.. Train loss: 123.667.. Validation loss: 88.584.. Validation accuracy: 64.216%\n",
      "Validation loss decreased (106.481684 --> 88.584377).  Saving model ... \n",
      "\n",
      "Epoch 5/20000.. Train loss: 107.791.. Validation loss: 75.632.. Validation accuracy: 68.532%\n",
      "Validation loss decreased (88.584377 --> 75.632032).  Saving model ... \n",
      "\n",
      "Epoch 6/20000.. Train loss: 93.494.. Validation loss: 71.695.. Validation accuracy: 70.595%\n",
      "Validation loss decreased (75.632032 --> 71.694925).  Saving model ... \n",
      "\n",
      "Epoch 7/20000.. Train loss: 85.260.. Validation loss: 60.417.. Validation accuracy: 74.444%\n",
      "Validation loss decreased (71.694925 --> 60.416596).  Saving model ... \n",
      "\n",
      "Epoch 8/20000.. Train loss: 78.104.. Validation loss: 57.349.. Validation accuracy: 75.506%\n",
      "Validation loss decreased (60.416596 --> 57.348991).  Saving model ... \n",
      "\n",
      "Epoch 9/20000.. Train loss: 73.544.. Validation loss: 54.448.. Validation accuracy: 76.910%\n",
      "Validation loss decreased (57.348991 --> 54.447581).  Saving model ... \n",
      "\n",
      "Epoch 10/20000.. Train loss: 67.431.. Validation loss: 51.988.. Validation accuracy: 77.852%\n",
      "Validation loss decreased (54.447581 --> 51.988002).  Saving model ... \n",
      "\n",
      "Epoch 11/20000.. Train loss: 64.198.. Validation loss: 48.998.. Validation accuracy: 77.748%\n",
      "Validation loss decreased (51.988002 --> 48.997999).  Saving model ... \n",
      "\n",
      "Epoch 12/20000.. Train loss: 61.741.. Validation loss: 47.193.. Validation accuracy: 79.415%\n",
      "Validation loss decreased (48.997999 --> 47.193403).  Saving model ... \n",
      "\n",
      "Epoch 13/20000.. Train loss: 59.362.. Validation loss: 43.455.. Validation accuracy: 81.796%\n",
      "Validation loss decreased (47.193403 --> 43.455031).  Saving model ... \n",
      "\n",
      "Epoch 14/20000.. Train loss: 57.434.. Validation loss: 42.592.. Validation accuracy: 81.394%\n",
      "Validation loss decreased (43.455031 --> 42.592085).  Saving model ... \n",
      "\n",
      "Epoch 15/20000.. Train loss: 54.139.. Validation loss: 40.817.. Validation accuracy: 82.272%\n",
      "Validation loss decreased (42.592085 --> 40.817122).  Saving model ... \n",
      "\n",
      "Epoch 16/20000.. Train loss: 52.326.. Validation loss: 38.821.. Validation accuracy: 83.155%\n",
      "Validation loss decreased (40.817122 --> 38.820609).  Saving model ... \n",
      "\n",
      "Epoch 17/20000.. Train loss: 52.477.. Validation loss: 39.120.. Validation accuracy: 82.986%\n",
      "Epoch 18/20000.. Train loss: 47.848.. Validation loss: 38.576.. Validation accuracy: 82.232%\n",
      "Validation loss decreased (38.820609 --> 38.576032).  Saving model ... \n",
      "\n",
      "Epoch 19/20000.. Train loss: 46.990.. Validation loss: 38.823.. Validation accuracy: 83.527%\n",
      "Epoch 20/20000.. Train loss: 45.283.. Validation loss: 38.345.. Validation accuracy: 82.773%\n",
      "Validation loss decreased (38.576032 --> 38.345189).  Saving model ... \n",
      "\n",
      "Epoch 21/20000.. Train loss: 43.879.. Validation loss: 35.608.. Validation accuracy: 85.248%\n",
      "Validation loss decreased (38.345189 --> 35.608482).  Saving model ... \n",
      "\n",
      "Epoch 22/20000.. Train loss: 43.529.. Validation loss: 37.951.. Validation accuracy: 82.976%\n",
      "Epoch 23/20000.. Train loss: 40.207.. Validation loss: 36.177.. Validation accuracy: 84.623%\n",
      "Epoch 24/20000.. Train loss: 42.054.. Validation loss: 35.918.. Validation accuracy: 85.005%\n",
      "Epoch 25/20000.. Train loss: 41.611.. Validation loss: 38.262.. Validation accuracy: 83.953%\n",
      "Epoch 26/20000.. Train loss: 39.837.. Validation loss: 34.514.. Validation accuracy: 85.833%\n",
      "Validation loss decreased (35.608482 --> 34.513523).  Saving model ... \n",
      "\n",
      "Epoch 27/20000.. Train loss: 38.310.. Validation loss: 31.951.. Validation accuracy: 87.118%\n",
      "Validation loss decreased (34.513523 --> 31.950548).  Saving model ... \n",
      "\n",
      "Epoch 28/20000.. Train loss: 38.307.. Validation loss: 31.616.. Validation accuracy: 86.513%\n",
      "Validation loss decreased (31.950548 --> 31.615822).  Saving model ... \n",
      "\n",
      "Epoch 29/20000.. Train loss: 37.975.. Validation loss: 33.213.. Validation accuracy: 85.412%\n",
      "Epoch 30/20000.. Train loss: 38.179.. Validation loss: 32.076.. Validation accuracy: 84.940%\n",
      "Epoch 31/20000.. Train loss: 37.355.. Validation loss: 31.149.. Validation accuracy: 86.290%\n",
      "Validation loss decreased (31.615822 --> 31.148902).  Saving model ... \n",
      "\n",
      "Epoch 32/20000.. Train loss: 35.547.. Validation loss: 31.626.. Validation accuracy: 86.875%\n"
     ]
    }
   ],
   "source": [
    "epochs = 20000\n",
    "steps = 0\n",
    "running_loss = 0\n",
    "valid_loss = 0.0\n",
    "valid_loss_min = np.Inf # track change in validation loss\n",
    "print_every = 5\n",
    "for epoch in range(epochs):\n",
    "    model.train()\n",
    "    for inputs, labels in train_loader:\n",
    "        steps += 1\n",
    "        # Move input and label tensors to the default device\n",
    "        inputs, labels = inputs.to(device), labels.to(device)\n",
    "        \n",
    "        optimizer.zero_grad()\n",
    "        \n",
    "        logps = model.forward(inputs)\n",
    "        loss = criterion(logps, labels)\n",
    "        loss.backward()\n",
    "        optimizer.step()\n",
    "\n",
    "        running_loss += loss.item() * inputs.size(0)\n",
    "        \n",
    "#        if steps % print_every == 0:\n",
    "    valid_loss = 0\n",
    "    accuracy = 0\n",
    "    model.eval()\n",
    "    with torch.no_grad():\n",
    "        for inputs, labels in valid_loader:\n",
    "            inputs, labels = inputs.to(device), labels.to(device)\n",
    "            logps = model.forward(inputs)\n",
    "            batch_loss = criterion(logps, labels)\n",
    "\n",
    "            valid_loss += batch_loss.item() * labels.size(0)\n",
    "\n",
    "            # Calculate accuracy\n",
    "            ps = torch.exp(logps)\n",
    "            top_p, top_class = ps.topk(1, dim=1)\n",
    "            equals = top_class == labels.view(*top_class.shape)\n",
    "            accuracy += torch.mean(equals.type(torch.FloatTensor)).item()\n",
    "\n",
    "    print(f\"Epoch {epoch+1}/{epochs}.. \"\n",
    "          f\"Train loss: {running_loss/len(train_loader):.3f}.. \"\n",
    "          f\"Validation loss: {valid_loss/len(valid_loader):.3f}.. \"\n",
    "          f\"Validation accuracy: {100*accuracy/len(valid_loader):.3f}%\")\n",
    "    \n",
    "    # save model if validation loss has decreased\n",
    "    if valid_loss <= valid_loss_min:\n",
    "        print('Validation loss decreased ({:.6f} --> {:.6f}).  Saving model ... \\n'.format(\n",
    "        valid_loss_min/len(valid_loader),\n",
    "        valid_loss/len(valid_loader)))\n",
    "        model.class_to_idx = train_data.class_to_idx\n",
    " \n",
    "        model.to('cpu')\n",
    "        states = {\n",
    "          'epoch': epoch+1,\n",
    "          'arch' : arch,\n",
    "          'class_to_idx': model.class_to_idx,  \n",
    "          'state_dict': model.state_dict(),\n",
    "          'optimizer': optimizer.state_dict()\n",
    "#          'loss' :  running_loss,\n",
    "#          'criterion' : criterion,  \n",
    "#          'input_size': model.classifier.input_size_out,\n",
    "#          'output_size': model.classifier.output_size_out,\n",
    "#          'hidden_layers': [each.out_features for each in model.classifier.hidden_layers],\n",
    "        }\n",
    "        \n",
    "        torch.save(states, 'checkpoint.pt')\n",
    "        model.to(device)\n",
    "        valid_loss_min = valid_loss \n",
    "    running_loss = 0\n",
    "    "
   ]
  },
  {
   "cell_type": "markdown",
   "metadata": {
    "colab_type": "text",
    "id": "mc3PeR1BUmKA"
   },
   "source": [
    "## Loading the checkpoint\n",
    "\n",
    "Let's write a function that can load a checkpoint and rebuild the model, so we can come back to this project and keep working on it without having to retrain the network."
   ]
  },
  {
   "cell_type": "code",
   "execution_count": 0,
   "metadata": {
    "colab": {},
    "colab_type": "code",
    "id": "3o4knBNwu_ac"
   },
   "outputs": [],
   "source": [
    "# https://discuss.pytorch.org/t/how-to-save-the-optimizer-setting-in-a-log-in-pytorch/17187/2\n",
    "def checkpoint_loader(filename):\n",
    "  \n",
    "  checkpoint = torch.load(checkpoint_path)\n",
    "  \n",
    "  model = models.densenet121(pretrained=False)\n",
    "  for param in model.parameters():\n",
    "    param.requires_grad = False\n",
    " \n",
    "  # Put the classifier on the pretrained network\n",
    "  model.classifier = Classifier()\n",
    "\n",
    "\n",
    "  model.load_state_dict(checkpoint['state_dict'])\n",
    "  \n",
    "  return model\n",
    "\n",
    "model, optimizer, epoch = checkpoint_loader()\n",
    "\n",
    "\n",
    "\n"
   ]
  },
  {
   "cell_type": "markdown",
   "metadata": {
    "colab_type": "text",
    "id": "DTTwMconWCNm"
   },
   "source": [
    "## Inference for classification\n",
    "\n",
    "Now we'll write a function to use a trained network for inference. An image will be passes into the network and predict the class of the flower in the image. We will write a function called `predict` that takes an image and a model, then returns the top $K$ most likely classes along with the probabilities. \n",
    "\n",
    "First let's processing the input image such that it can be used in the network. \n",
    "\n",
    "## Image Preprocessing\n",
    "\n",
    "We'll use `PIL` to load the image and  write a function that preprocesses the image so it can be used as input for the model. This function should process the images in the same manner used for training. \n",
    "\n",
    "The following steps need to be done: \n",
    "First, resize the images where the shortest side is 256 pixels, keeping the aspect ratio. Then we'll need to crop out the center 224x224 portion of the image.\n",
    "\n",
    "Color channels of images are typically encoded as integers 0-255, but the model expected floats 0-1. We'll need to convert the values. It's easiest with a Numpy array, which you can get from a PIL image like so `np_image = np.array(pil_image)`.\n",
    "\n",
    "As before, the network expects the images to be normalized in a specific way. For the means, it's `[0.485, 0.456, 0.406]` and for the standard deviations `[0.229, 0.224, 0.225]`. We  want to subtract the means from each color channel, then divide by the standard deviation. \n",
    "\n",
    "And finally, PyTorch expects the color channel to be the first dimension but it's the third dimension in the PIL image and Numpy array. WE can reorder dimensions using [`ndarray.transpose`](https://docs.scipy.org/doc/numpy-1.13.0/reference/generated/numpy.ndarray.transpose.html). The color channel needs to be first and retain the order of the other two dimensions.\n"
   ]
  },
  {
   "cell_type": "code",
   "execution_count": 0,
   "metadata": {
    "colab": {},
    "colab_type": "code",
    "id": "BRKVtVxurOx_"
   },
   "outputs": [],
   "source": [
    "def process_image(image):\n",
    "  ''' Scales, crops, and normalizes a PIL image for a PyTorch model,\n",
    "        returns an Numpy array\n",
    "  '''\n",
    "    \n",
    "  pil_image = Image.open(image)\n",
    "  # Process a PIL image for use in a PyTorch model\n",
    "  w, h = pil_image.size\n",
    "  if w == h:\n",
    "    print('w=h')\n",
    "    size = 256, 256\n",
    "  elif w > h:\n",
    "    print('w>h')\n",
    "    ration = h / 256\n",
    "    size = int(w/ratio), 256\n",
    "  else:\n",
    "    print('w < h')\n",
    "    ratio = w / 256\n",
    "    size = 256, int(h/ratio)\n",
    "  \n",
    "  print(w,h, ratio, size)\n",
    "  #resize image:\n",
    "  pil_image.thumbnail(size)\n",
    "  \n",
    "  # crop image\n",
    "  np_im = np.array(pil_image)\n",
    "  print(np_im.shape)\n",
    "  np_im = np_im[(np_im.shape[0] - 224) // 2:(np_im.shape[0] - 224) // 2 + 224, (np_im.shape[1] - 224) // 2:(np_im.shape[1] - 224) // 2 + 224, :]\n",
    "\n",
    "  print(np_im.shape)\n",
    "  \n",
    "  # normalize image\n",
    "  mean = np.array([0.485, 0.456, 0.406])\n",
    "  std = np.array([0.229, 0.224, 0.225])\n",
    "  np_im = np_im / 255\n",
    "  np_im = (np_im - mean) / std\n",
    "  print(\"shape before transpose\", np_im.shape)\n",
    "  np_im = np.transpose(np_im, (2, 0, 1))\n",
    "  \n",
    "  print(\"shape after transpose\", np_im.shape)\n",
    "  return np_im\n",
    "\n",
    "image = process_image('flower_data/valid/1/image_06739.jpg')"
   ]
  },
  {
   "cell_type": "code",
   "execution_count": 0,
   "metadata": {
    "colab": {},
    "colab_type": "code",
    "id": "jseTRbj5b2Hd"
   },
   "outputs": [],
   "source": [
    "#To check the work, the function below converts a PyTorch tensor and displays it in the notebook. \n",
    "#If the process_image function works, running the output through this function should return the original image \n",
    "#(except for the cropped out portions).\n",
    "\n",
    "def imshow(image, ax=None, title=None):\n",
    "    \"\"\"Imshow for Tensor.\"\"\"\n",
    "    if ax is None:\n",
    "        fig, ax = plt.subplots()\n",
    "    \n",
    "    # PyTorch tensors assume the color channel is the first dimension\n",
    "    # but matplotlib assumes is the third dimension\n",
    "    image = image.transpose((1, 2, 0))\n",
    "    \n",
    "    # Undo preprocessing\n",
    "    mean = np.array([0.485, 0.456, 0.406])\n",
    "    std = np.array([0.229, 0.224, 0.225])\n",
    "    image = std * image + mean\n",
    "    \n",
    "    # Image needs to be clipped between 0 and 1 or it looks like noise when displayed\n",
    "    image = np.clip(image, 0, 1)\n",
    "    \n",
    "    ax.imshow(image)\n",
    "    \n",
    "    return ax\n",
    "  \n",
    "imshow(image, ax=None, title=None)\n"
   ]
  },
  {
   "cell_type": "markdown",
   "metadata": {
    "colab_type": "text",
    "id": "KSzF09SHWJ1M"
   },
   "source": [
    "## Class Prediction\n",
    "\n",
    "Once we can get images in the correct format, it's time to write a function for making predictions with our model. We will predict the top 5 or so (usually called top-$K$) most probable classes. You'll want to calculate the class probabilities then find the $K$ largest values.\n",
    "\n",
    "\n",
    "```"
   ]
  },
  {
   "cell_type": "code",
   "execution_count": 0,
   "metadata": {
    "colab": {},
    "colab_type": "code",
    "id": "d57re_y0O2DJ"
   },
   "outputs": [],
   "source": []
  }
 ],
 "metadata": {
  "accelerator": "GPU",
  "colab": {
   "collapsed_sections": [],
   "name": "Image_Classifier_Flower_Project.ipynb",
   "provenance": [],
   "version": "0.3.2"
  },
  "kernelspec": {
   "display_name": "Python 3",
   "language": "python",
   "name": "python3"
  },
  "language_info": {
   "codemirror_mode": {
    "name": "ipython",
    "version": 3
   },
   "file_extension": ".py",
   "mimetype": "text/x-python",
   "name": "python",
   "nbconvert_exporter": "python",
   "pygments_lexer": "ipython3",
   "version": "3.6.6"
  }
 },
 "nbformat": 4,
 "nbformat_minor": 1
}
